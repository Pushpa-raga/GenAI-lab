{
  "nbformat": 4,
  "nbformat_minor": 0,
  "metadata": {
    "colab": {
      "provenance": []
    },
    "kernelspec": {
      "name": "python3",
      "display_name": "Python 3"
    },
    "language_info": {
      "name": "python"
    }
  },
  "cells": [
    {
      "cell_type": "code",
      "source": [
        "import math\n",
        "\n",
        "def find_square_root():\n",
        "  \"\"\"Finds the square root of a number provided by the user.\"\"\"\n",
        "  try:\n",
        "    num = float(input(\"Enter a number to find its square root: \"))\n",
        "    if num < 0:\n",
        "      print(\"Square root of a negative number is not a real number.\")\n",
        "    else:\n",
        "      square_root = math.sqrt(num)\n",
        "      print(f\"The square root of {num} is {square_root}\")\n",
        "  except ValueError:\n",
        "    print(\"Invalid input. Please enter a valid number.\")\n",
        "\n",
        "find_square_root()"
      ],
      "metadata": {
        "colab": {
          "base_uri": "https://localhost:8080/"
        },
        "id": "nx0s5PPts3FM",
        "outputId": "8e1f0a16-b31e-404f-e4fc-1b305426a0f8"
      },
      "execution_count": 1,
      "outputs": [
        {
          "output_type": "stream",
          "name": "stdout",
          "text": [
            "Enter a number to find its square root: 49\n",
            "The square root of 49.0 is 7.0\n"
          ]
        }
      ]
    },
    {
      "cell_type": "code",
      "source": [
        "number = 16\n",
        "square_root = number ** 0.5\n",
        "print(f\"The square root of {number} is {square_root}\")"
      ],
      "metadata": {
        "colab": {
          "base_uri": "https://localhost:8080/"
        },
        "id": "-_VIM_idumuO",
        "outputId": "5c92f4ad-a09c-4c7c-a5b7-5debc92bc6c9"
      },
      "execution_count": 3,
      "outputs": [
        {
          "output_type": "stream",
          "name": "stdout",
          "text": [
            "The square root of 16 is 4.0\n"
          ]
        }
      ]
    },
    {
      "cell_type": "code",
      "source": [
        "#swap 2 variables\n",
        "a, b = 5, 10\n",
        "a, b = b, a\n",
        "print(\"a =\", a, \"b =\", b)"
      ],
      "metadata": {
        "colab": {
          "base_uri": "https://localhost:8080/"
        },
        "id": "HGHgdqnktDND",
        "outputId": "87fef8a1-ca58-4c30-c37d-20291e1cc09a"
      },
      "execution_count": 2,
      "outputs": [
        {
          "output_type": "stream",
          "name": "stdout",
          "text": [
            "a = 10 b = 5\n"
          ]
        }
      ]
    },
    {
      "cell_type": "code",
      "source": [
        "print(\"Enter an number: \",a)\n",
        "if(a>0):\n",
        "  print(\"Number is positive\")\n",
        "if(a<0):\n",
        "  print(\"Number is negative\")\n",
        "if(a==0):\n",
        "  print(\"Number is zero\")\n",
        "\n"
      ],
      "metadata": {
        "colab": {
          "base_uri": "https://localhost:8080/"
        },
        "id": "j5zmZvyvuqhe",
        "outputId": "24221d94-8ee6-4103-d364-bfa4b542e6aa"
      },
      "execution_count": 6,
      "outputs": [
        {
          "output_type": "stream",
          "name": "stdout",
          "text": [
            "Enter an number:  10\n",
            "Number is positive\n"
          ]
        }
      ]
    },
    {
      "cell_type": "code",
      "source": [
        "print(\"Enter an numner: \",a)\n",
        "if(a%2==0):\n",
        "  print(\"Number is even\")\n",
        "else:\n",
        "  print(\"Number is odd\")"
      ],
      "metadata": {
        "colab": {
          "base_uri": "https://localhost:8080/"
        },
        "id": "m-vMTuvtwGkx",
        "outputId": "2ff896b7-b88a-4585-f04f-d1bcf598b7e9"
      },
      "execution_count": 7,
      "outputs": [
        {
          "output_type": "stream",
          "name": "stdout",
          "text": [
            "Enter an numner:  10\n",
            "Number is even\n"
          ]
        }
      ]
    },
    {
      "cell_type": "code",
      "source": [
        "#factorial\n",
        "def factorial(n):\n",
        "  if n == 0:\n",
        "    return 1\n",
        "  else:\n",
        "    return n * factorial(n-1)\n",
        "\n",
        "print(factorial(5))"
      ],
      "metadata": {
        "colab": {
          "base_uri": "https://localhost:8080/"
        },
        "id": "a7AQMVqm0BKM",
        "outputId": "f86aed3f-440f-4024-97fd-4660f947f69f"
      },
      "execution_count": 16,
      "outputs": [
        {
          "output_type": "stream",
          "name": "stdout",
          "text": [
            "120\n"
          ]
        }
      ]
    },
    {
      "cell_type": "code",
      "source": [
        "#palindrome\n",
        "def palindrome(s):\n",
        "  if s == s[::-1]:\n",
        "    return True\n",
        "  else:\n",
        "    return False\n",
        "\n",
        "print(palindrome(\"madam\"))"
      ],
      "metadata": {
        "colab": {
          "base_uri": "https://localhost:8080/"
        },
        "id": "_834hW_w0Gnz",
        "outputId": "92c22a23-7f04-4eba-f62a-a5eecc78d2c1"
      },
      "execution_count": 17,
      "outputs": [
        {
          "output_type": "stream",
          "name": "stdout",
          "text": [
            "True\n"
          ]
        }
      ]
    },
    {
      "cell_type": "code",
      "source": [
        "import pandas as pd\n",
        "data = {'Name':['Alice','Bob','Charlie'],'Age':[25,30,35],'City':['New York','San Francisco','Los Angeles']}\n",
        "df = pd.DataFrame(data)\n"
      ],
      "metadata": {
        "id": "yf_Bb5Ic19CW"
      },
      "execution_count": 19,
      "outputs": []
    }
  ]
}